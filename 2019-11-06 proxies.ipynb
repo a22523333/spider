{
 "cells": [
  {
   "cell_type": "code",
   "execution_count": 3,
   "metadata": {},
   "outputs": [],
   "source": [
    "from bs4 import BeautifulSoup as bs\n",
    "import requests\n",
    "import re"
   ]
  },
  {
   "cell_type": "code",
   "execution_count": 6,
   "metadata": {},
   "outputs": [],
   "source": [
    "def get_html(url,ip_proxies=None):\n",
    "    pattern = re.compile(r'//(.*?)/')\n",
    "    host_url = re.findall(pattern,url)[0]\n",
    "    headers = {\n",
    "            \"Host\": host_url,\n",
    "            \"User-Agent\": \"Mozilla/5.0 (Windows NT 10.0; WOW64; rv:60.0) Gecko/20100101 Firefox/60.0\",\n",
    "            \"Accept\": \"text/html,application/xhtml+xml,application/xml;q=0.9,*/*;q=0.8\",\n",
    "            \"Accept-Language\": \"zh-CN,zh;q=0.8,zh-TW;q=0.7,zh-HK;q=0.5,en-US;q=0.3,en;q=0.2\",\n",
    "            \"Accept-Encoding\": \"gzip, deflate\",\n",
    "            \"Connection\": \"keep-alive\",\n",
    "        }\n",
    "    try:\n",
    "        if ip_proxies:\n",
    "            proxies = {'http':'http://'+ip_porxies}\n",
    "            res = requests.get(url,headers=headers,proxies=proxies,timeout=5)\n",
    "        else:\n",
    "            res = requests.get(url,headers=headers,timeout=5)\n",
    "    except Exception as e:\n",
    "        print('%s , 该地址获取HTML失败'.url)\n",
    "        print(e)\n",
    "    else:\n",
    "        if res.encoding == 'ISO-8859-1':\n",
    "            encodings = requests.utils.get_encodings_from_content(res.text)\n",
    "            if encodings:\n",
    "                res.encoding = encodings[0]\n",
    "        else:\n",
    "            res.encoding = res.apparent_encoding\n",
    "        return res"
   ]
  },
  {
   "cell_type": "code",
   "execution_count": 7,
   "metadata": {},
   "outputs": [],
   "source": [
    "res = get_html('http://www.baidu.com/')"
   ]
  }
 ],
 "metadata": {
  "kernelspec": {
   "display_name": "Python 3",
   "language": "python",
   "name": "python3"
  },
  "language_info": {
   "codemirror_mode": {
    "name": "ipython",
    "version": 3
   },
   "file_extension": ".py",
   "mimetype": "text/x-python",
   "name": "python",
   "nbconvert_exporter": "python",
   "pygments_lexer": "ipython3",
   "version": "3.6.8"
  }
 },
 "nbformat": 4,
 "nbformat_minor": 2
}
