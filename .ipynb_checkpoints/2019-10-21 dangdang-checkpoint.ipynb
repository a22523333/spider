{
 "cells": [
  {
   "cell_type": "code",
   "execution_count": 20,
   "metadata": {},
   "outputs": [],
   "source": [
    "import requests\n",
    "import re\n",
    "from time import sleep\n",
    "from bs4 import BeautifulSoup"
   ]
  },
  {
   "cell_type": "code",
   "execution_count": 39,
   "metadata": {},
   "outputs": [],
   "source": [
    "import pandas as pd"
   ]
  },
  {
   "cell_type": "code",
   "execution_count": 2,
   "metadata": {},
   "outputs": [],
   "source": [
    "def main(page):\n",
    "    url = 'http://bang.dangdang.com/books/fivestars/01.00.00.00.00.00-recent30-0-0-1-' + str(page)\n",
    "    html = request_dangdang(url)\n",
    "    items = parse_result(html)\n",
    "    for item in items:\n",
    "        write_item_to_file(item)"
   ]
  },
  {
   "cell_type": "code",
   "execution_count": 4,
   "metadata": {},
   "outputs": [],
   "source": [
    "def request_dangdang(url):\n",
    "    try:\n",
    "        response = requests.get(url)\n",
    "        if response.status_code == 200:\n",
    "            return response.text\n",
    "    except requests.RequestException:\n",
    "        return None"
   ]
  },
  {
   "cell_type": "code",
   "execution_count": 18,
   "metadata": {
    "scrolled": true
   },
   "outputs": [],
   "source": [
    "def parse_result(html):\n",
    "    bf = BeautifulSoup(html.text)\n",
    "    data = bf.find('ul',class_='bang_list')\n",
    "    range = []\n",
    "    for i in data.find_all('div',class_='list_num'):\n",
    "        range.append(i.text[:-1])\n",
    "    df['range'] = range\n",
    "    name = []\n",
    "    url = []\n",
    "    for i in data.find_all('div',class_='name'):\n",
    "        name.append(i.text)\n",
    "        url.append(i.a['href'])\n",
    "    df['name'] = name\n",
    "    df['url'] = url"
   ]
  },
  {
   "cell_type": "code",
   "execution_count": null,
   "metadata": {},
   "outputs": [],
   "source": [
    " \"\"\" for item in items:\n",
    "        yield{\n",
    "            'range': item[0],\n",
    "            'iamge': item[1],\n",
    "            'title': item[2],\n",
    "            'recommend': item[3],\n",
    "            'author': item[4],\n",
    "            'times': item[5],\n",
    "            'price': item[6]\n",
    "        }\n",
    "\"\"\""
   ]
  },
  {
   "cell_type": "code",
   "execution_count": 21,
   "metadata": {},
   "outputs": [],
   "source": [
    "url = 'http://bang.dangdang.com/books/fivestars/01.00.00.00.00.00-recent30-0-0-1-1'\n",
    "html = requests.get(url=url)\n",
    "req = BeautifulSoup(html.text)"
   ]
  },
  {
   "cell_type": "code",
   "execution_count": 26,
   "metadata": {},
   "outputs": [
    {
     "data": {
      "text/plain": [
       "200"
      ]
     },
     "execution_count": 26,
     "metadata": {},
     "output_type": "execute_result"
    }
   ],
   "source": [
    "html.status_code"
   ]
  },
  {
   "cell_type": "code",
   "execution_count": 66,
   "metadata": {},
   "outputs": [],
   "source": [
    "data = req.find('ul',class_='bang_list')"
   ]
  },
  {
   "cell_type": "code",
   "execution_count": 63,
   "metadata": {},
   "outputs": [
    {
     "data": {
      "text/plain": [
       "'http://product.dangdang.com/27847515.html'"
      ]
     },
     "execution_count": 63,
     "metadata": {},
     "output_type": "execute_result"
    }
   ],
   "source": [
    "req.find('ul',class_='bang_list').find('div',class_='name').a['href']"
   ]
  },
  {
   "cell_type": "code",
   "execution_count": 40,
   "metadata": {},
   "outputs": [],
   "source": [
    "df = pd.DataFrame()"
   ]
  },
  {
   "cell_type": "code",
   "execution_count": 68,
   "metadata": {},
   "outputs": [
    {
     "name": "stdout",
     "output_type": "stream",
     "text": [
      "['http://product.dangdang.com/27847515.html', 'http://product.dangdang.com/25580077.html', 'http://product.dangdang.com/27898780.html', 'http://product.dangdang.com/27898748.html', 'http://product.dangdang.com/25578129.html', 'http://product.dangdang.com/25317388.html', 'http://product.dangdang.com/27863165.html', 'http://product.dangdang.com/25345990.html', 'http://product.dangdang.com/27912734.html', 'http://product.dangdang.com/25197768.html', 'http://product.dangdang.com/27921926.html', 'http://product.dangdang.com/27918847.html', 'http://product.dangdang.com/27921906.html', 'http://product.dangdang.com/24157581.html', 'http://product.dangdang.com/27912733.html', 'http://product.dangdang.com/25248047.html', 'http://product.dangdang.com/25317389.html', 'http://product.dangdang.com/25254451.html', 'http://product.dangdang.com/25303200.html', 'http://product.dangdang.com/27889474.html']\n"
     ]
    }
   ],
   "source": [
    "name = []\n",
    "for i in data.find_all('div',class_='name'):\n",
    "    name.append(i.a['href'])\n",
    "print(name)\n",
    "df['url'] = name"
   ]
  },
  {
   "cell_type": "code",
   "execution_count": 69,
   "metadata": {},
   "outputs": [
    {
     "data": {
      "text/html": [
       "<div>\n",
       "<style scoped>\n",
       "    .dataframe tbody tr th:only-of-type {\n",
       "        vertical-align: middle;\n",
       "    }\n",
       "\n",
       "    .dataframe tbody tr th {\n",
       "        vertical-align: top;\n",
       "    }\n",
       "\n",
       "    .dataframe thead th {\n",
       "        text-align: right;\n",
       "    }\n",
       "</style>\n",
       "<table border=\"1\" class=\"dataframe\">\n",
       "  <thead>\n",
       "    <tr style=\"text-align: right;\">\n",
       "      <th></th>\n",
       "      <th>name</th>\n",
       "      <th>url</th>\n",
       "    </tr>\n",
       "  </thead>\n",
       "  <tbody>\n",
       "    <tr>\n",
       "      <td>0</td>\n",
       "      <td>摆渡人3无境之爱（千万畅销心灵治愈小说“摆渡人”系列完结篇，令...</td>\n",
       "      <td>http://product.dangdang.com/27847515.html</td>\n",
       "    </tr>\n",
       "    <tr>\n",
       "      <td>1</td>\n",
       "      <td>安妮日记</td>\n",
       "      <td>http://product.dangdang.com/25580077.html</td>\n",
       "    </tr>\n",
       "    <tr>\n",
       "      <td>2</td>\n",
       "      <td>名人传</td>\n",
       "      <td>http://product.dangdang.com/27898780.html</td>\n",
       "    </tr>\n",
       "    <tr>\n",
       "      <td>3</td>\n",
       "      <td>给青年的十二封信</td>\n",
       "      <td>http://product.dangdang.com/27898748.html</td>\n",
       "    </tr>\n",
       "    <tr>\n",
       "      <td>4</td>\n",
       "      <td>城南旧事</td>\n",
       "      <td>http://product.dangdang.com/25578129.html</td>\n",
       "    </tr>\n",
       "    <tr>\n",
       "      <td>5</td>\n",
       "      <td>呼叫空港</td>\n",
       "      <td>http://product.dangdang.com/25317388.html</td>\n",
       "    </tr>\n",
       "    <tr>\n",
       "      <td>6</td>\n",
       "      <td>浮生六记</td>\n",
       "      <td>http://product.dangdang.com/27863165.html</td>\n",
       "    </tr>\n",
       "    <tr>\n",
       "      <td>7</td>\n",
       "      <td>间谍之死(拒绝好莱坞翻拍的年度作品，刺激程度超越《碟中谍》，更...</td>\n",
       "      <td>http://product.dangdang.com/25345990.html</td>\n",
       "    </tr>\n",
       "    <tr>\n",
       "      <td>8</td>\n",
       "      <td>销售培训：让每个销售员都成为销售高手</td>\n",
       "      <td>http://product.dangdang.com/27912734.html</td>\n",
       "    </tr>\n",
       "    <tr>\n",
       "      <td>9</td>\n",
       "      <td>无可替代的你</td>\n",
       "      <td>http://product.dangdang.com/25197768.html</td>\n",
       "    </tr>\n",
       "    <tr>\n",
       "      <td>10</td>\n",
       "      <td>艾迪的告别（法国版《乡下人的悲歌》，比《无声告白》更真实的人...</td>\n",
       "      <td>http://product.dangdang.com/27921926.html</td>\n",
       "    </tr>\n",
       "    <tr>\n",
       "      <td>11</td>\n",
       "      <td>朝与同歌暮与酒</td>\n",
       "      <td>http://product.dangdang.com/27918847.html</td>\n",
       "    </tr>\n",
       "    <tr>\n",
       "      <td>12</td>\n",
       "      <td>悠长假日</td>\n",
       "      <td>http://product.dangdang.com/27921906.html</td>\n",
       "    </tr>\n",
       "    <tr>\n",
       "      <td>13</td>\n",
       "      <td>魔力四射：如何打动、亲近和影响他人（一本改变人生思维方式的魔...</td>\n",
       "      <td>http://product.dangdang.com/24157581.html</td>\n",
       "    </tr>\n",
       "    <tr>\n",
       "      <td>14</td>\n",
       "      <td>零售运营：连锁企业管理手册</td>\n",
       "      <td>http://product.dangdang.com/27912733.html</td>\n",
       "    </tr>\n",
       "    <tr>\n",
       "      <td>15</td>\n",
       "      <td>里娜的奇幻丛林</td>\n",
       "      <td>http://product.dangdang.com/25248047.html</td>\n",
       "    </tr>\n",
       "    <tr>\n",
       "      <td>16</td>\n",
       "      <td>委托人DOCTOR（全2册）</td>\n",
       "      <td>http://product.dangdang.com/25317389.html</td>\n",
       "    </tr>\n",
       "    <tr>\n",
       "      <td>17</td>\n",
       "      <td>《另类间谍》（推理小说名家赫尔曼之战争三部曲 展现人性深处的生...</td>\n",
       "      <td>http://product.dangdang.com/25254451.html</td>\n",
       "    </tr>\n",
       "    <tr>\n",
       "      <td>18</td>\n",
       "      <td>藏在回忆里的风景（全二册）</td>\n",
       "      <td>http://product.dangdang.com/25303200.html</td>\n",
       "    </tr>\n",
       "    <tr>\n",
       "      <td>19</td>\n",
       "      <td>养成良好习惯，高效管理时间</td>\n",
       "      <td>http://product.dangdang.com/27889474.html</td>\n",
       "    </tr>\n",
       "  </tbody>\n",
       "</table>\n",
       "</div>"
      ],
      "text/plain": [
       "                                  name  \\\n",
       "0   摆渡人3无境之爱（千万畅销心灵治愈小说“摆渡人”系列完结篇，令...   \n",
       "1                                 安妮日记   \n",
       "2                                  名人传   \n",
       "3                             给青年的十二封信   \n",
       "4                                 城南旧事   \n",
       "5                                 呼叫空港   \n",
       "6                                 浮生六记   \n",
       "7   间谍之死(拒绝好莱坞翻拍的年度作品，刺激程度超越《碟中谍》，更...   \n",
       "8                   销售培训：让每个销售员都成为销售高手   \n",
       "9                               无可替代的你   \n",
       "10   艾迪的告别（法国版《乡下人的悲歌》，比《无声告白》更真实的人...   \n",
       "11                             朝与同歌暮与酒   \n",
       "12                                悠长假日   \n",
       "13   魔力四射：如何打动、亲近和影响他人（一本改变人生思维方式的魔...   \n",
       "14                       零售运营：连锁企业管理手册   \n",
       "15                             里娜的奇幻丛林   \n",
       "16                      委托人DOCTOR（全2册）   \n",
       "17  《另类间谍》（推理小说名家赫尔曼之战争三部曲 展现人性深处的生...   \n",
       "18                       藏在回忆里的风景（全二册）   \n",
       "19                       养成良好习惯，高效管理时间   \n",
       "\n",
       "                                          url  \n",
       "0   http://product.dangdang.com/27847515.html  \n",
       "1   http://product.dangdang.com/25580077.html  \n",
       "2   http://product.dangdang.com/27898780.html  \n",
       "3   http://product.dangdang.com/27898748.html  \n",
       "4   http://product.dangdang.com/25578129.html  \n",
       "5   http://product.dangdang.com/25317388.html  \n",
       "6   http://product.dangdang.com/27863165.html  \n",
       "7   http://product.dangdang.com/25345990.html  \n",
       "8   http://product.dangdang.com/27912734.html  \n",
       "9   http://product.dangdang.com/25197768.html  \n",
       "10  http://product.dangdang.com/27921926.html  \n",
       "11  http://product.dangdang.com/27918847.html  \n",
       "12  http://product.dangdang.com/27921906.html  \n",
       "13  http://product.dangdang.com/24157581.html  \n",
       "14  http://product.dangdang.com/27912733.html  \n",
       "15  http://product.dangdang.com/25248047.html  \n",
       "16  http://product.dangdang.com/25317389.html  \n",
       "17  http://product.dangdang.com/25254451.html  \n",
       "18  http://product.dangdang.com/25303200.html  \n",
       "19  http://product.dangdang.com/27889474.html  "
      ]
     },
     "execution_count": 69,
     "metadata": {},
     "output_type": "execute_result"
    }
   ],
   "source": [
    "df"
   ]
  }
 ],
 "metadata": {
  "kernelspec": {
   "display_name": "Python 3",
   "language": "python",
   "name": "python3"
  },
  "language_info": {
   "codemirror_mode": {
    "name": "ipython",
    "version": 3
   },
   "file_extension": ".py",
   "mimetype": "text/x-python",
   "name": "python",
   "nbconvert_exporter": "python",
   "pygments_lexer": "ipython3",
   "version": "3.6.8"
  }
 },
 "nbformat": 4,
 "nbformat_minor": 2
}
