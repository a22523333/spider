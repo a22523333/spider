{
 "cells": [
  {
   "cell_type": "code",
   "execution_count": 2,
   "metadata": {},
   "outputs": [],
   "source": [
    "import requests\n",
    "import re\n",
    "from time import sleep\n",
    "from bs4 import BeautifulSoup\n",
    "import pandas as pd"
   ]
  },
  {
   "cell_type": "code",
   "execution_count": 28,
   "metadata": {},
   "outputs": [],
   "source": [
    "def main(page):\n",
    "    url = 'http://bang.dangdang.com/books/fivestars/01.00.00.00.00.00-recent30-0-0-1-' + str(page)\n",
    "    html = request_dangdang(url)\n",
    "    items = parse_result(html)\n",
    "    items.to_csv('dangdang.csv',mode='a',index=False)"
   ]
  },
  {
   "cell_type": "code",
   "execution_count": 18,
   "metadata": {},
   "outputs": [],
   "source": [
    "def request_dangdang(url):\n",
    "    try:\n",
    "        response = requests.get(url)\n",
    "        if response.status_code == 200:\n",
    "            return response.text\n",
    "    except requests.RequestException:\n",
    "        return None"
   ]
  },
  {
   "cell_type": "code",
   "execution_count": 21,
   "metadata": {
    "scrolled": true
   },
   "outputs": [],
   "source": [
    "def parse_result(html):\n",
    "    bf = BeautifulSoup(html)\n",
    "    data = bf.find('ul',class_='bang_list')\n",
    "    df = pd.DataFrame()\n",
    "    range = []\n",
    "    for i in data.find_all('div',class_='list_num'):\n",
    "        range.append(i.text[:-1])\n",
    "    df['range'] = range\n",
    "    name = []\n",
    "    url = []\n",
    "    for i in data.find_all('div',class_='name'):\n",
    "        name.append(i.text)\n",
    "        url.append(i.a['href'])\n",
    "    df['name'] = name\n",
    "    df['url'] = url\n",
    "    biaosheng = []\n",
    "    for i in data.find_all('div',class_='biaosheng'):\n",
    "        biaosheng.append(i.text)\n",
    "    df['biaosheng'] = biaosheng\n",
    "    return df"
   ]
  },
  {
   "cell_type": "code",
   "execution_count": 29,
   "metadata": {},
   "outputs": [],
   "source": [
    "main(1)"
   ]
  }
 ],
 "metadata": {
  "kernelspec": {
   "display_name": "Python 3",
   "language": "python",
   "name": "python3"
  },
  "language_info": {
   "codemirror_mode": {
    "name": "ipython",
    "version": 3
   },
   "file_extension": ".py",
   "mimetype": "text/x-python",
   "name": "python",
   "nbconvert_exporter": "python",
   "pygments_lexer": "ipython3",
   "version": "3.6.8"
  }
 },
 "nbformat": 4,
 "nbformat_minor": 2
}
