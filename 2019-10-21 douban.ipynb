{
 "cells": [
  {
   "cell_type": "code",
   "execution_count": 89,
   "metadata": {},
   "outputs": [],
   "source": [
    "import requests\n",
    "from bs4 import BeautifulSoup\n",
    "import pandas as pd\n",
    "import csv\n",
    "from time import sleep"
   ]
  },
  {
   "cell_type": "code",
   "execution_count": 84,
   "metadata": {},
   "outputs": [],
   "source": [
    "def main(page):\n",
    "    url = 'https://movie.douban.com/top250?start=%s&filter='%(page*25)\n",
    "    bf_data = request_douban(url)\n",
    "    df = to_pd(bf_data)\n",
    "    df.to_csv('douban.csv',mode='a',index=False,header=False)"
   ]
  },
  {
   "cell_type": "code",
   "execution_count": 70,
   "metadata": {},
   "outputs": [],
   "source": [
    "def request_douban(url):\n",
    "    header = {'User-Agent':'Mozilla/5.0 (Windows NT 10.0; Win64; x64) AppleWebKit/537.36 (KHTML, like Gecko) Chrome/77.0.3865.120 Safari/537.36'}\n",
    "    try:\n",
    "        response = requests.get(url,headers=header)\n",
    "        if response.status_code == 200:\n",
    "            data = BeautifulSoup(response.text)\n",
    "            return data\n",
    "    except requests.RequestException:\n",
    "        return None"
   ]
  },
  {
   "cell_type": "code",
   "execution_count": 73,
   "metadata": {},
   "outputs": [],
   "source": [
    "def to_pd(data):\n",
    "    data = data.find(class_='grid_view').find_all('li')\n",
    "    lst = []#[['title','img','level','rating_num','inq']]\n",
    "    df = pd.DataFrame()\n",
    "    for item in data:\n",
    "        title = item.find(class_='title').text\n",
    "        img = item.find('img')['src']\n",
    "        level = item.find('em').text\n",
    "        rating_num = item.find('span',class_='rating_num').text\n",
    "        inq = item.find(class_='inq').text\n",
    "        lst.append([title,img,level,rating_num,inq])\n",
    "    df = df.append(lst)\n",
    "    return df"
   ]
  },
  {
   "cell_type": "code",
   "execution_count": 92,
   "metadata": {},
   "outputs": [],
   "source": [
    "if __name__ == '__main__':\n",
    "    for i in range(2,20):\n",
    "        #main(i)\n",
    "        sleep(3)"
   ]
  },
  {
   "cell_type": "code",
   "execution_count": 77,
   "metadata": {},
   "outputs": [],
   "source": [
    "with open('douban.csv','w',encoding='utf-8',newline='') as f:\n",
    "    writer = csv.writer(f)\n",
    "    writer.writerow(['title','img','level','rating_num','inq'])"
   ]
  }
 ],
 "metadata": {
  "kernelspec": {
   "display_name": "Python 3",
   "language": "python",
   "name": "python3"
  },
  "language_info": {
   "codemirror_mode": {
    "name": "ipython",
    "version": 3
   },
   "file_extension": ".py",
   "mimetype": "text/x-python",
   "name": "python",
   "nbconvert_exporter": "python",
   "pygments_lexer": "ipython3",
   "version": "3.6.8"
  }
 },
 "nbformat": 4,
 "nbformat_minor": 2
}
