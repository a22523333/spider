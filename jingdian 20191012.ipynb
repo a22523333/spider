{
 "cells": [
  {
   "cell_type": "code",
   "execution_count": 2,
   "metadata": {},
   "outputs": [],
   "source": [
    "import requests\n",
    "from bs4 import BeautifulSoup\n",
    "import csv\n",
    "from fake_useragent import UserAgent\n",
    "from time import sleep\n",
    "import numpy as np\n",
    "import pandas as pd"
   ]
  },
  {
   "cell_type": "code",
   "execution_count": 5,
   "metadata": {},
   "outputs": [],
   "source": []
  },
  {
   "cell_type": "code",
   "execution_count": 6,
   "metadata": {},
   "outputs": [],
   "source": [
    "types = ['自然风光', '山川', '江河湖泊', '地质景观', '海滨海岛', '公园', '峡谷', '瀑布', '地质公园', '文化古迹']"
   ]
  },
  {
   "cell_type": "code",
   "execution_count": 79,
   "metadata": {},
   "outputs": [],
   "source": [
    "def download_page(url):\n",
    "    try:\n",
    "        data = requests.get(url=url,headers=HEADERS,allow_redirect=True).content\n",
    "        return data\n",
    "    except:\n",
    "        pass\n",
    "    \n",
    "def download_soup_waitting(url):\n",
    "    HEADERS = {\n",
    "    'User-Agent':UserAgent(verify_ssl=False).random,\n",
    "    'Accept':'application/json, text/javascript, */*; q=0.01',\n",
    "    'Accept-Encoding': 'gzip, deflate, br',\n",
    "    'Accept-Language': 'zh-CN,zh;q=0.9',\n",
    "    'Cookie':'',\n",
    "    'Connection':'keep-alive',\n",
    "    'Pragma':'no-cache',\n",
    "    'Cache-Control':'no-cache'\n",
    "}\n",
    "    try:\n",
    "        response = requests.get(url=url,headers=HEADERS)\n",
    "        if response.status_code == 200:\n",
    "            html = response.content\n",
    "            html = html.decode('utf-8')\n",
    "            soup = BeautifulSoup(html,'html.parser')\n",
    "            return soup\n",
    "        else:\n",
    "            sleep(2)\n",
    "            return download_soup_waitting(url)\n",
    "    except:\n",
    "        return \"\""
   ]
  },
  {
   "cell_type": "code",
   "execution_count": 35,
   "metadata": {},
   "outputs": [],
   "source": [
    "url = 'https://piao.qunar.com/ticket/list.htm?keyword=热门景点&region=&from=mpl_search_suggest&subject=自然风光&page=1&sku='\n",
    "req = requests.get(url=url)\n",
    "req = BeautifulSoup(req.text)\n",
    "req = req.find('div',class_='result_list',id='search-list').find_all('div',class_='sight_item')\n"
   ]
  },
  {
   "cell_type": "code",
   "execution_count": 90,
   "metadata": {},
   "outputs": [],
   "source": [
    "def getdata(type,url,df):\n",
    "    req = download_soup_waitting(url)\n",
    "    sight_items = req.find('div',class_='result_list',id='search-list').find_all('div',class_='sight_item')\n",
    "    for sight_item in sight_items:\n",
    "        districts = sight_item['data-districts']\n",
    "        name = sight_item['data-sight-name']\n",
    "        id = sight_item['data-id']\n",
    "        #type = '自然风光'\n",
    "        level = sight_item.find('span',class_='level')\n",
    "        level = level.text if level else ''\n",
    "        product_star_level = sight_item.find('span',class_='product_star_level')\n",
    "        product_star_level = product_star_level.text if product_star_level else ''\n",
    "        address = sight_item['data-address']\n",
    "        intro = sight_item.find('span',class_='intro')\n",
    "        intro = intro.text if intro else ''\n",
    "        point = sight_item['data-point']\n",
    "        hot_num = sight_item.find('span',class_='hot_num').text\n",
    "        #print(districts,name,id,type,level,product_star_level,address,intro,point)\n",
    "        df = df.append([[districts,name,id,type,level,product_star_level,address,intro,point,hot_num]],ignore_index=True)\n",
    "        #df.to_csv('jingdian.csv',mode='a',index=False,header=False)\n",
    "        #print(df)\n",
    "        next = req.find('a',class_='next')\n",
    "        '''if next:\n",
    "            sleep(1)\n",
    "            next_url = 'https://piao.qunar.com' + next['href']\n",
    "            getdata(type,next_url,df)'''\n",
    "    #print(df)\n",
    "    df.to_csv('jingdian.csv',mode='a',index=False,header=False)\n",
    "            "
   ]
  },
  {
   "cell_type": "code",
   "execution_count": 91,
   "metadata": {},
   "outputs": [
    {
     "name": "stdout",
     "output_type": "stream",
     "text": [
      "https://piao.qunar.com/ticket/list.htm?keyword=热门景点&region=&from=mpl_search_suggest&subject=山川&page=1&sku=\n",
      "https://piao.qunar.com/ticket/list.htm?keyword=热门景点&region=&from=mpl_search_suggest&subject=山川&page=2&sku=\n",
      "https://piao.qunar.com/ticket/list.htm?keyword=热门景点&region=&from=mpl_search_suggest&subject=山川&page=3&sku=\n",
      "https://piao.qunar.com/ticket/list.htm?keyword=热门景点&region=&from=mpl_search_suggest&subject=山川&page=4&sku=\n",
      "https://piao.qunar.com/ticket/list.htm?keyword=热门景点&region=&from=mpl_search_suggest&subject=山川&page=5&sku=\n",
      "https://piao.qunar.com/ticket/list.htm?keyword=热门景点&region=&from=mpl_search_suggest&subject=山川&page=6&sku=\n",
      "https://piao.qunar.com/ticket/list.htm?keyword=热门景点&region=&from=mpl_search_suggest&subject=山川&page=7&sku=\n",
      "https://piao.qunar.com/ticket/list.htm?keyword=热门景点&region=&from=mpl_search_suggest&subject=山川&page=8&sku=\n",
      "https://piao.qunar.com/ticket/list.htm?keyword=热门景点&region=&from=mpl_search_suggest&subject=山川&page=9&sku=\n"
     ]
    }
   ],
   "source": [
    "types = ['自然风光', '山川', '江河湖泊', '地质景观', '海滨海岛', '公园', '峡谷', '瀑布', '地质公园', '文化古迹']\n",
    "for type in [types[1]]:\n",
    "    df = pd.DataFrame()\n",
    "    for i in range(1,10):\n",
    "        url = 'https://piao.qunar.com/ticket/list.htm?keyword=热门景点&region=&from=mpl_search_suggest&subject={type}&page={num}&sku='.format(type=type,num=i)\n",
    "        print(url)\n",
    "        getdata(type,url,df)"
   ]
  },
  {
   "cell_type": "code",
   "execution_count": 57,
   "metadata": {},
   "outputs": [],
   "source": [
    "with open('jingdian.csv','w',encoding='utf-8',newline='') as f:\n",
    "    writer = csv.writer(f)\n",
    "    writer.writerow(['区域','名称','景点id','类型','级别','热度','地址','特色','经纬度','月销量'])"
   ]
  },
  {
   "cell_type": "code",
   "execution_count": 92,
   "metadata": {},
   "outputs": [
    {
     "name": "stdout",
     "output_type": "stream",
     "text": [
      "<class 'pandas.core.frame.DataFrame'>\n",
      "RangeIndex: 150 entries, 0 to 149\n",
      "Data columns (total 10 columns):\n",
      "区域      150 non-null object\n",
      "名称      150 non-null object\n",
      "景点id    150 non-null int64\n",
      "类型      150 non-null object\n",
      "级别      120 non-null object\n",
      "热度      150 non-null object\n",
      "地址      150 non-null object\n",
      "特色      0 non-null float64\n",
      "经纬度     150 non-null object\n",
      "月销量     150 non-null int64\n",
      "dtypes: float64(1), int64(2), object(7)\n",
      "memory usage: 11.8+ KB\n"
     ]
    }
   ],
   "source": [
    "b = pd.read_csv('jingdian.csv')\n",
    "b.info()"
   ]
  },
  {
   "cell_type": "code",
   "execution_count": 62,
   "metadata": {},
   "outputs": [
    {
     "name": "stdout",
     "output_type": "stream",
     "text": [
      "['自然风光', '山川', '江河湖泊', '地质景观', '海滨海岛', '公园', '峡谷', '瀑布', '地质公园', '文化古迹']\n"
     ]
    }
   ],
   "source": [
    "url = 'https://piao.qunar.com/ticket/list.htm?keyword=热门景点&region=&from=mpl_search_suggest&subject=自然风光&page=1&sku='\n",
    "req = requests.get(url=url)\n",
    "req = BeautifulSoup(req.text)\n",
    "types = []\n",
    "for i in req.find('dl',id='subject-list'):\n",
    "    if i['data-value']:\n",
    "        types.append(i['data-value'])\n",
    "print(types)"
   ]
  },
  {
   "cell_type": "code",
   "execution_count": 15,
   "metadata": {},
   "outputs": [],
   "source": [
    "df = pd.DataFrame()"
   ]
  },
  {
   "cell_type": "code",
   "execution_count": 19,
   "metadata": {},
   "outputs": [],
   "source": [
    "df = df.append([['1','2','3']])"
   ]
  },
  {
   "cell_type": "code",
   "execution_count": 23,
   "metadata": {},
   "outputs": [],
   "source": [
    "df = df.append([['4','5','6']],ignore_index = True)"
   ]
  },
  {
   "cell_type": "code",
   "execution_count": 93,
   "metadata": {},
   "outputs": [
    {
     "name": "stdout",
     "output_type": "stream",
     "text": [
      "续命之徒：绝命毒师电影 8.4\n",
      "银河补习班 6.2\n",
      "这个男孩必须被释放 7.5\n",
      "神奇女侠：血脉 6.1\n",
      "印度有嘻哈 7.6\n",
      "送我上青云 7.3\n",
      "哪吒之魔童降世 8.5\n",
      "安娜 7.7\n",
      "寄生虫 8.7\n",
      "保持沉默 5.4\n",
      "沉默的证人 5.4\n",
      "仲夏夜惊魂 6.5\n",
      "极限逃生 7.6\n",
      "柳烈的音乐专辑 7.9\n",
      "小丑回魂2 6.5\n",
      "大侦探皮卡丘 6.5\n",
      "深夜食堂 5.1\n",
      "玩具总动员4 8.7\n",
      "高草丛中 6.3\n",
      "铤而走险 6.1\n",
      "流浪地球 7.9\n",
      "疯狂的外星人 6.4\n",
      "烈火英雄 6.6\n",
      "龙牌之谜 3.6\n",
      "蜘蛛侠：英雄远征 7.8\n",
      "速度与激情：特别行动 6.3\n",
      "恶人传 7.7\n",
      "使徒行者2：谍影行动 6.4\n",
      "X战警：黑凤凰 5.9\n",
      "无名之辈 8.1\n",
      "飞驰人生 6.9\n",
      "名侦探柯南：绀青之拳 6.0\n",
      "疾速备战 7.8\n",
      "海王 7.6\n",
      "阿丽塔：战斗天使 7.5\n",
      "蜘蛛侠：平行宇宙 8.6\n",
      "爱宠大机密2 7.0\n",
      "在黑暗中讲述的恐怖故事 6.0\n",
      "白蛇：缘起 7.9\n",
      "波西米亚狂想曲 8.7\n",
      "阿拉丁 7.6\n",
      "我身体里的那个家伙 7.2\n",
      "狮子王 7.4\n",
      "地久天长 7.9\n",
      "友情以上 6.4\n",
      "极限职业 7.7\n",
      "复仇者联盟4：终局之战 8.5\n",
      "神奇动物：格林德沃之罪 7.1\n",
      "风中有朵雨做的云 7.2\n",
      "骡子 7.9\n",
      "巨鳄风暴 5.8\n",
      "哆啦A梦：大雄的月球探险记 7.4\n",
      "大黄蜂 7.0\n",
      "花椒之味 7.3\n",
      "无敌破坏王2：大闹互联网 8.1\n",
      "小委托人 8.0\n",
      "海市蜃楼 7.7\n",
      "痛苦与荣耀 8.6\n",
      "我的一级兄弟 8.3\n",
      "断裂 6.6\n",
      "看不见的客人(意大利版) 9.1\n",
      "密室逃生 7.2\n",
      "沦落人 8.2\n",
      "扫毒2天地对决 6.0\n",
      "黑衣人：全球追缉 5.6\n",
      "鼠胆英雄 5.4\n",
      "新喜剧之王 5.7\n",
      "在无爱之森呐喊 6.8\n",
      "假面饭店 6.7\n",
      "你好，之华 6.7\n",
      "驯龙高手3 7.4\n",
      "惊奇队长 6.9\n",
      "老师·好 6.7\n",
      "昨日青空 6.1\n",
      "一条狗的使命2 6.9\n",
      "自卫的艺术 7.4\n",
      "老千3：独眼杰克 6.2\n",
      "月影杀痕 6.1\n",
      "哥斯拉2：怪兽之王 6.3\n",
      "安娜贝尔3：回家 5.7\n",
      "来电狂响 5.8\n",
      "阴曹使者 6.3\n",
      "“大”人物 6.5\n",
      "姐姐 6.4\n",
      "昨日奇迹 6.5\n",
      "追龙Ⅱ 5.5\n",
      "我们 6.4\n",
      "雷霆沙赞！ 6.3\n",
      "心理测量者SS2：第一卫士 8.0\n",
      "最好的我们 5.4\n",
      "丧尸未逝 5.7\n",
      "小飞象 6.7\n",
      "胡桃夹子和四个王国 6.0\n",
      "准备好了没 7.2\n",
      "偷心女盗 5.7\n",
      "证人 7.7\n",
      "优步危机 6.3\n",
      "摇摆狂潮 8.2\n",
      "比悲伤更悲伤的故事 4.8\n",
      "同义词 7.0\n"
     ]
    }
   ],
   "source": [
    "import json\n",
    "\n",
    "# 定义请求url\n",
    "url = \"https://movie.douban.com/j/search_subjects\"\n",
    "# 定义请求头\n",
    "headers = {\n",
    "    \"User-Agent\": \"Mozilla/5.0 (Macintosh; Intel Mac OS X 10_14_0) AppleWebKit/537.36 (KHTML, like Gecko) Chrome/70.0.3538.110 Safari/537.36\"\n",
    "}\n",
    "# 循环构建请求参数并且发送请求\n",
    "for page_start in range(0, 100, 20):\n",
    "    params = {\n",
    "        \"type\": \"movie\",\n",
    "        \"tag\": \"热门\",\n",
    "        \"sort\": \"recommend\",\n",
    "        \"page_limit\": \"20\",\n",
    "        \"page_start\": page_start\n",
    "    }\n",
    "    response = requests.get(\n",
    "        url=url,\n",
    "        headers=headers,\n",
    "        params=params\n",
    "    )\n",
    "    # 方式一:直接转换json方法\n",
    "    # results = response.json()\n",
    "    # 方式二: 手动转换\n",
    "    # 获取字节串\n",
    "    content = response.content\n",
    "    # 转换成字符串\n",
    "    string = content.decode('utf-8')\n",
    "    # 把字符串转成python数据类型\n",
    "    results = json.loads(string)\n",
    "    # 解析结果\n",
    "    for movie in results[\"subjects\"]:\n",
    "        print(movie[\"title\"], movie[\"rate\"])"
   ]
  }
 ],
 "metadata": {
  "kernelspec": {
   "display_name": "Python 3",
   "language": "python",
   "name": "python3"
  },
  "language_info": {
   "codemirror_mode": {
    "name": "ipython",
    "version": 3
   },
   "file_extension": ".py",
   "mimetype": "text/x-python",
   "name": "python",
   "nbconvert_exporter": "python",
   "pygments_lexer": "ipython3",
   "version": "3.6.8"
  }
 },
 "nbformat": 4,
 "nbformat_minor": 2
}
