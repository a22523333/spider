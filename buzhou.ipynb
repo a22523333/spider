{
 "cells": [
  {
   "cell_type": "code",
   "execution_count": 5,
   "metadata": {},
   "outputs": [],
   "source": [
    "import requests\n",
    "from bs4 import BeautifulSoup\n",
    "import pandas as pd\n",
    "import re"
   ]
  },
  {
   "cell_type": "code",
   "execution_count": 3,
   "metadata": {},
   "outputs": [],
   "source": [
    "class URLManager(object):\n",
    "    def __init__(self):\n",
    "        self.new_urls = set()\n",
    "        self.old_urls = set()\n",
    "        \n",
    "    def has_new_url(self):\n",
    "        return self.new_url_size() != 0\n",
    "    \n",
    "    def get_new_url(self):\n",
    "        new_url = self.new_urls.pop()\n",
    "        self.old_urls.add(new_url)\n",
    "        return new_url\n",
    "    \n",
    "    def add_new_url(self,url):\n",
    "        if url is None:\n",
    "            pass\n",
    "        if url not in self.new_urls and url not in self.old_urls:\n",
    "            self.new_urls.add(url)\n",
    "    \n",
    "    def add_new_urls(self,urls):\n",
    "        if urls is None or len(urls) == 0:\n",
    "            return\n",
    "        for url in urls:\n",
    "            self.add_new_url(url)\n",
    "    \n",
    "    def new_url_size(self):\n",
    "        return len(self.new_urls)\n",
    "    \n",
    "    def old_url_size(self):\n",
    "        return len(self.old_urls)"
   ]
  },
  {
   "cell_type": "code",
   "execution_count": 6,
   "metadata": {},
   "outputs": [],
   "source": [
    "class HTMLDownload(object):\n",
    "    \n",
    "    def download(self,url):\n",
    "        if url is None:\n",
    "            return\n",
    "        s = requests.Session()\n",
    "        headers = {\n",
    "            'User-Agent':'Mozilla/5.0 (Windows NT 10.0; Win64; x64) AppleWebKit/537.36 (KHTML, like Gecko) Chrome/78.0.3904.70 Safari/537.36',\n",
    "            \n",
    "        }\n",
    "        res = s.get(url,headers=headers)\n",
    "        if res.status_code == 200:\n",
    "            if res.encoding == 'ISO-8859-1':\n",
    "                encodings = requests.utils.get_encodings_from_content(req.text)\n",
    "                if encodings:\n",
    "                    encoding = encodings[0]\n",
    "                else:\n",
    "                    encoding = res.apparent_encoding\n",
    "            res.encoding = encoding\n",
    "            res = res.text\n",
    "            return res\n",
    "        return None"
   ]
  },
  {
   "cell_type": "code",
   "execution_count": 8,
   "metadata": {},
   "outputs": [],
   "source": [
    "class HTMLParser(object):\n",
    "    \n",
    "    def parser(self,page_url,html_cont):\n",
    "        if page_url is None or html_cont is None:\n",
    "            return\n",
    "        soup = BeautifulSoup(html_cont,'html.parser')\n",
    "        new_urls = self._get_new_urls(page_url,soup)\n",
    "        new_data = self._get_new_data(page_url,soup)\n",
    "        return new_urls,new_data\n",
    "    \n",
    "    def _get_new_urls(self,page_url,soup):\n",
    "        new_urls = set()\n",
    "        for link in range(1,100):\n",
    "            new_url  = \"http://www.runoob.com/w3cnote/page/\"+str(link)\n",
    "            new_urls.add(new_url)\n",
    "        print(new_urls)\n",
    "        return new_urls\n",
    "    \n",
    "    def _get_new_data(self,page_url,soup):\n",
    "        data = {}\n",
    "        data['url'] = page_url\n",
    "        title = soup.find('div',class_='post_intro').find('h2')\n",
    "        print(title)\n",
    "        data['title'] = title.get_text()\n",
    "        summary = soup.find('div',class_='post_intro').find('p')\n",
    "        data['summary'] = summary.get_text()\n",
    "        return data"
   ]
  },
  {
   "cell_type": "code",
   "execution_count": null,
   "metadata": {},
   "outputs": [],
   "source": []
  },
  {
   "cell_type": "code",
   "execution_count": 15,
   "metadata": {},
   "outputs": [
    {
     "data": {
      "text/plain": [
       "['gb2312']"
      ]
     },
     "execution_count": 15,
     "metadata": {},
     "output_type": "execute_result"
    }
   ],
   "source": [
    "res = requests.get(\"http://www.qq.com\")\n",
    "requests.utils.get_encodings_from_content(res.text)"
   ]
  },
  {
   "cell_type": "code",
   "execution_count": 16,
   "metadata": {},
   "outputs": [
    {
     "data": {
      "text/plain": [
       "'GB2312'"
      ]
     },
     "execution_count": 16,
     "metadata": {},
     "output_type": "execute_result"
    }
   ],
   "source": [
    "res.encoding"
   ]
  },
  {
   "cell_type": "code",
   "execution_count": 12,
   "metadata": {},
   "outputs": [
    {
     "data": {
      "text/plain": [
       "['UTF-8']"
      ]
     },
     "execution_count": 12,
     "metadata": {},
     "output_type": "execute_result"
    }
   ],
   "source": [
    "requests.utils.get_encodings_from_content(res.text)"
   ]
  }
 ],
 "metadata": {
  "kernelspec": {
   "display_name": "Python 3",
   "language": "python",
   "name": "python3"
  },
  "language_info": {
   "codemirror_mode": {
    "name": "ipython",
    "version": 3
   },
   "file_extension": ".py",
   "mimetype": "text/x-python",
   "name": "python",
   "nbconvert_exporter": "python",
   "pygments_lexer": "ipython3",
   "version": "3.6.8"
  }
 },
 "nbformat": 4,
 "nbformat_minor": 2
}
