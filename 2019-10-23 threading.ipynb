{
 "cells": [
  {
   "cell_type": "code",
   "execution_count": 26,
   "metadata": {},
   "outputs": [],
   "source": [
    "import threading\n",
    "import time\n",
    "from concurrent.futures import ThreadPoolExecutor\n",
    "from queue import Queue\n",
    "from bs4 import BeautifulSoup\n",
    "import requests\n",
    "import matplotlib.pyplot as plt"
   ]
  },
  {
   "cell_type": "code",
   "execution_count": 18,
   "metadata": {},
   "outputs": [],
   "source": [
    "def get_page_urls(pages):\n",
    "    urls = []\n",
    "    \n",
    "    for i in range(pages):\n",
    "        baseurl = 'https://www.mzitu.com/page/{}'.format(pages)\n",
    "        html = requests_page(baseurl)\n",
    "        bf = BeautifulSoup(html.text)\n",
    "        list = bf.find(class_='postlist').find_all('li')\n",
    "        for item in list:\n",
    "            url = item.find('span').find('a')['href']\n",
    "            urls.append(url)\n",
    "    return urls"
   ]
  },
  {
   "cell_type": "code",
   "execution_count": 24,
   "metadata": {},
   "outputs": [],
   "source": [
    "def requests_page(url):\n",
    "    headers = {\n",
    "    'User-Agent':'Mozilla/5.0 (Windows NT 10.0; Win64; x64) AppleWebKit/537.36 (KHTML, like Gecko) Chrome/77.0.3865.90 Safari/537.36'}\n",
    "    html = requests.get(url,headers=headers)\n",
    "    if html.status_code == 200:\n",
    "        return html\n",
    "    else:\n",
    "        return None"
   ]
  },
  {
   "cell_type": "code",
   "execution_count": 27,
   "metadata": {},
   "outputs": [],
   "source": [
    "def download(url):\n",
    "    html = requests_page(url)\n",
    "    bf = BeautifulSoup(html.text)\n",
    "    total = bf.find(class_='pagenavi').find_all('a')[-2].find('span').string\n",
    "    title = bf.find('h2').string\n",
    "    image_list = []\n",
    "    for i in range(int(total)):\n",
    "        html = requests_page(url + '/%s' % (i + 1))\n",
    "        bf = BeautifulSoup(html.text)\n",
    "        img_url = bf.find('img')['src']\n",
    "        image_list.append(img_url)\n",
    "    return image_list"
   ]
  },
  {
   "cell_type": "code",
   "execution_count": null,
   "metadata": {},
   "outputs": [],
   "source": []
  },
  {
   "cell_type": "code",
   "execution_count": 5,
   "metadata": {},
   "outputs": [],
   "source": [
    "def moyu_time(name,delay,counter):\n",
    "    while counter:\n",
    "        time.sleep(delay)\n",
    "        print(\"%s 开始摸鱼 %s\" % (name, time.strftime(\"%Y-%m-%d %H:%M:%S\", time.localtime())))\n",
    "        counter -= 1"
   ]
  },
  {
   "cell_type": "code",
   "execution_count": 7,
   "metadata": {},
   "outputs": [],
   "source": [
    "class CustomThread(threading.Thread):\n",
    "    def __init__(self,queue):\n",
    "        threading.Thread.__init__(self)\n",
    "        self.__queue = queue\n",
    "    \n",
    "    def run(self):\n",
    "        while True:\n",
    "            q_method = self.__queue.get()\n",
    "            q_method()\n",
    "            self.__queue.task_done()"
   ]
  },
  {
   "cell_type": "code",
   "execution_count": 8,
   "metadata": {},
   "outputs": [],
   "source": [
    "def moyu():\n",
    "    print(\" 开始摸鱼 %s\" % (time.strftime(\"%Y-%m-%d %H:%M:%S\", time.localtime())))"
   ]
  },
  {
   "cell_type": "code",
   "execution_count": 12,
   "metadata": {},
   "outputs": [],
   "source": [
    "def queue_pool():\n",
    "    queue = Queue(5)\n",
    "    for i in range(queue.maxsize):\n",
    "        t = CustomThread(queue)\n",
    "        t.setDaemon(True)\n",
    "        t.start()\n",
    "        \n",
    "    for i in range(20):\n",
    "        queue.put(moyu)\n",
    "    queue.join()"
   ]
  }
 ],
 "metadata": {
  "kernelspec": {
   "display_name": "Python 3",
   "language": "python",
   "name": "python3"
  },
  "language_info": {
   "codemirror_mode": {
    "name": "ipython",
    "version": 3
   },
   "file_extension": ".py",
   "mimetype": "text/x-python",
   "name": "python",
   "nbconvert_exporter": "python",
   "pygments_lexer": "ipython3",
   "version": "3.6.8"
  }
 },
 "nbformat": 4,
 "nbformat_minor": 2
}
