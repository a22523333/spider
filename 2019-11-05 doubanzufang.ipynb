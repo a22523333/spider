{
 "cells": [
  {
   "cell_type": "code",
   "execution_count": 47,
   "metadata": {},
   "outputs": [],
   "source": [
    "import requests\n",
    "from bs4 import BeautifulSoup\n",
    "import time\n",
    "import re\n",
    "import pandas as pd\n",
    "from concurrent.futures import ThreadPoolExecutor"
   ]
  },
  {
   "cell_type": "code",
   "execution_count": 57,
   "metadata": {},
   "outputs": [],
   "source": [
    "class DouBanZuFang(object):\n",
    "    def __init__(self,name):\n",
    "        self.headers = {\n",
    "            'User-Agent':'Mozilla/5.0 (Windows NT 10.0; Win64; x64) AppleWebKit/537.36 (KHTML, like Gecko) Chrome/78.0.3904.70 Safari/537.36',\n",
    "        }\n",
    "        self.urls_dict = {}\n",
    "        self.data = pd.DataFrame()\n",
    "        self.name = name\n",
    "        \n",
    "    def urls_download(self):\n",
    "        url = 'https://www.douban.com/group/{}zufang/discussion?start={}'\n",
    "        for i in range(10):\n",
    "            res = requests.get(url=url.format(self.name,i*25),headers=self.headers)\n",
    "            bf = BeautifulSoup(res.text)\n",
    "            bf_data = bf.find('table',class_='olt').find_all('a')\n",
    "            for i in bf_data[2::2]:\n",
    "                if not re.search('[求|已]租',i['title']):\n",
    "                    self.urls_dict[i['title']] = i['href']\n",
    "            time.sleep(1)\n",
    "    \n",
    "    def parse_data(self,url):\n",
    "        res2 = requests.get(url=url,headers=self.headers)\n",
    "        data = ''\n",
    "        bf2 = BeautifulSoup(res2.text)\n",
    "        bf2_data = bf2.find('div',class_='topic-richtext').find_all('p')\n",
    "        for i in bf2_data:\n",
    "            if i:\n",
    "                data += i.text + '\\n'\n",
    "        return data\n",
    "        \n",
    "    def save_data(self):\n",
    "        self.data.to_csv(self.name+'.csv',mode='a',encoding='gbk',index=False,header=False)\n",
    "        \n",
    "\n",
    "    def run(self):\n",
    "        self.urls_download()\n",
    "        for title,href in self.urls_dict.items():\n",
    "            self.data = self.data.append([title,href,self.parse_data(href)],ignore_index=True)\n",
    "            time.sleep(1)\n",
    "        self.save_data()\n",
    "        #print(self.urls_dict)"
   ]
  },
  {
   "cell_type": "code",
   "execution_count": 62,
   "metadata": {},
   "outputs": [
    {
     "ename": "ConnectionError",
     "evalue": "HTTPSConnectionPool(host='www.douban.com', port=443): Max retries exceeded with url: /group/topic/156984946/ (Caused by NewConnectionError('<urllib3.connection.VerifiedHTTPSConnection object at 0x7fb8bb698e10>: Failed to establish a new connection: [Errno 113] No route to host',))",
     "output_type": "error",
     "traceback": [
      "\u001b[0;31m---------------------------------------------------------------------------\u001b[0m",
      "\u001b[0;31mOSError\u001b[0m                                   Traceback (most recent call last)",
      "\u001b[0;32m/usr/lib/python3/dist-packages/urllib3/connection.py\u001b[0m in \u001b[0;36m_new_conn\u001b[0;34m(self)\u001b[0m\n\u001b[1;32m    140\u001b[0m             conn = connection.create_connection(\n\u001b[0;32m--> 141\u001b[0;31m                 (self.host, self.port), self.timeout, **extra_kw)\n\u001b[0m\u001b[1;32m    142\u001b[0m \u001b[0;34m\u001b[0m\u001b[0m\n",
      "\u001b[0;32m/usr/lib/python3/dist-packages/urllib3/util/connection.py\u001b[0m in \u001b[0;36mcreate_connection\u001b[0;34m(address, timeout, source_address, socket_options)\u001b[0m\n\u001b[1;32m     82\u001b[0m     \u001b[0;32mif\u001b[0m \u001b[0merr\u001b[0m \u001b[0;32mis\u001b[0m \u001b[0;32mnot\u001b[0m \u001b[0;32mNone\u001b[0m\u001b[0;34m:\u001b[0m\u001b[0;34m\u001b[0m\u001b[0;34m\u001b[0m\u001b[0m\n\u001b[0;32m---> 83\u001b[0;31m         \u001b[0;32mraise\u001b[0m \u001b[0merr\u001b[0m\u001b[0;34m\u001b[0m\u001b[0;34m\u001b[0m\u001b[0m\n\u001b[0m\u001b[1;32m     84\u001b[0m \u001b[0;34m\u001b[0m\u001b[0m\n",
      "\u001b[0;32m/usr/lib/python3/dist-packages/urllib3/util/connection.py\u001b[0m in \u001b[0;36mcreate_connection\u001b[0;34m(address, timeout, source_address, socket_options)\u001b[0m\n\u001b[1;32m     72\u001b[0m                 \u001b[0msock\u001b[0m\u001b[0;34m.\u001b[0m\u001b[0mbind\u001b[0m\u001b[0;34m(\u001b[0m\u001b[0msource_address\u001b[0m\u001b[0;34m)\u001b[0m\u001b[0;34m\u001b[0m\u001b[0;34m\u001b[0m\u001b[0m\n\u001b[0;32m---> 73\u001b[0;31m             \u001b[0msock\u001b[0m\u001b[0;34m.\u001b[0m\u001b[0mconnect\u001b[0m\u001b[0;34m(\u001b[0m\u001b[0msa\u001b[0m\u001b[0;34m)\u001b[0m\u001b[0;34m\u001b[0m\u001b[0;34m\u001b[0m\u001b[0m\n\u001b[0m\u001b[1;32m     74\u001b[0m             \u001b[0;32mreturn\u001b[0m \u001b[0msock\u001b[0m\u001b[0;34m\u001b[0m\u001b[0;34m\u001b[0m\u001b[0m\n",
      "\u001b[0;31mOSError\u001b[0m: [Errno 113] No route to host",
      "\nDuring handling of the above exception, another exception occurred:\n",
      "\u001b[0;31mNewConnectionError\u001b[0m                        Traceback (most recent call last)",
      "\u001b[0;32m/usr/lib/python3/dist-packages/urllib3/connectionpool.py\u001b[0m in \u001b[0;36murlopen\u001b[0;34m(self, method, url, body, headers, retries, redirect, assert_same_host, timeout, pool_timeout, release_conn, chunked, body_pos, **response_kw)\u001b[0m\n\u001b[1;32m    600\u001b[0m                                                   \u001b[0mbody\u001b[0m\u001b[0;34m=\u001b[0m\u001b[0mbody\u001b[0m\u001b[0;34m,\u001b[0m \u001b[0mheaders\u001b[0m\u001b[0;34m=\u001b[0m\u001b[0mheaders\u001b[0m\u001b[0;34m,\u001b[0m\u001b[0;34m\u001b[0m\u001b[0;34m\u001b[0m\u001b[0m\n\u001b[0;32m--> 601\u001b[0;31m                                                   chunked=chunked)\n\u001b[0m\u001b[1;32m    602\u001b[0m \u001b[0;34m\u001b[0m\u001b[0m\n",
      "\u001b[0;32m/usr/lib/python3/dist-packages/urllib3/connectionpool.py\u001b[0m in \u001b[0;36m_make_request\u001b[0;34m(self, conn, method, url, timeout, chunked, **httplib_request_kw)\u001b[0m\n\u001b[1;32m    345\u001b[0m         \u001b[0;32mtry\u001b[0m\u001b[0;34m:\u001b[0m\u001b[0;34m\u001b[0m\u001b[0;34m\u001b[0m\u001b[0m\n\u001b[0;32m--> 346\u001b[0;31m             \u001b[0mself\u001b[0m\u001b[0;34m.\u001b[0m\u001b[0m_validate_conn\u001b[0m\u001b[0;34m(\u001b[0m\u001b[0mconn\u001b[0m\u001b[0;34m)\u001b[0m\u001b[0;34m\u001b[0m\u001b[0;34m\u001b[0m\u001b[0m\n\u001b[0m\u001b[1;32m    347\u001b[0m         \u001b[0;32mexcept\u001b[0m \u001b[0;34m(\u001b[0m\u001b[0mSocketTimeout\u001b[0m\u001b[0;34m,\u001b[0m \u001b[0mBaseSSLError\u001b[0m\u001b[0;34m)\u001b[0m \u001b[0;32mas\u001b[0m \u001b[0me\u001b[0m\u001b[0;34m:\u001b[0m\u001b[0;34m\u001b[0m\u001b[0;34m\u001b[0m\u001b[0m\n",
      "\u001b[0;32m/usr/lib/python3/dist-packages/urllib3/connectionpool.py\u001b[0m in \u001b[0;36m_validate_conn\u001b[0;34m(self, conn)\u001b[0m\n\u001b[1;32m    851\u001b[0m         \u001b[0;32mif\u001b[0m \u001b[0;32mnot\u001b[0m \u001b[0mgetattr\u001b[0m\u001b[0;34m(\u001b[0m\u001b[0mconn\u001b[0m\u001b[0;34m,\u001b[0m \u001b[0;34m'sock'\u001b[0m\u001b[0;34m,\u001b[0m \u001b[0;32mNone\u001b[0m\u001b[0;34m)\u001b[0m\u001b[0;34m:\u001b[0m  \u001b[0;31m# AppEngine might not have  `.sock`\u001b[0m\u001b[0;34m\u001b[0m\u001b[0;34m\u001b[0m\u001b[0m\n\u001b[0;32m--> 852\u001b[0;31m             \u001b[0mconn\u001b[0m\u001b[0;34m.\u001b[0m\u001b[0mconnect\u001b[0m\u001b[0;34m(\u001b[0m\u001b[0;34m)\u001b[0m\u001b[0;34m\u001b[0m\u001b[0;34m\u001b[0m\u001b[0m\n\u001b[0m\u001b[1;32m    853\u001b[0m \u001b[0;34m\u001b[0m\u001b[0m\n",
      "\u001b[0;32m/usr/lib/python3/dist-packages/urllib3/connection.py\u001b[0m in \u001b[0;36mconnect\u001b[0;34m(self)\u001b[0m\n\u001b[1;32m    283\u001b[0m         \u001b[0;31m# Add certificate verification\u001b[0m\u001b[0;34m\u001b[0m\u001b[0;34m\u001b[0m\u001b[0;34m\u001b[0m\u001b[0m\n\u001b[0;32m--> 284\u001b[0;31m         \u001b[0mconn\u001b[0m \u001b[0;34m=\u001b[0m \u001b[0mself\u001b[0m\u001b[0;34m.\u001b[0m\u001b[0m_new_conn\u001b[0m\u001b[0;34m(\u001b[0m\u001b[0;34m)\u001b[0m\u001b[0;34m\u001b[0m\u001b[0;34m\u001b[0m\u001b[0m\n\u001b[0m\u001b[1;32m    285\u001b[0m \u001b[0;34m\u001b[0m\u001b[0m\n",
      "\u001b[0;32m/usr/lib/python3/dist-packages/urllib3/connection.py\u001b[0m in \u001b[0;36m_new_conn\u001b[0;34m(self)\u001b[0m\n\u001b[1;32m    149\u001b[0m             raise NewConnectionError(\n\u001b[0;32m--> 150\u001b[0;31m                 self, \"Failed to establish a new connection: %s\" % e)\n\u001b[0m\u001b[1;32m    151\u001b[0m \u001b[0;34m\u001b[0m\u001b[0m\n",
      "\u001b[0;31mNewConnectionError\u001b[0m: <urllib3.connection.VerifiedHTTPSConnection object at 0x7fb8bb698e10>: Failed to establish a new connection: [Errno 113] No route to host",
      "\nDuring handling of the above exception, another exception occurred:\n",
      "\u001b[0;31mMaxRetryError\u001b[0m                             Traceback (most recent call last)",
      "\u001b[0;32m/usr/lib/python3/dist-packages/requests/adapters.py\u001b[0m in \u001b[0;36msend\u001b[0;34m(self, request, stream, timeout, verify, cert, proxies)\u001b[0m\n\u001b[1;32m    439\u001b[0m                     \u001b[0mretries\u001b[0m\u001b[0;34m=\u001b[0m\u001b[0mself\u001b[0m\u001b[0;34m.\u001b[0m\u001b[0mmax_retries\u001b[0m\u001b[0;34m,\u001b[0m\u001b[0;34m\u001b[0m\u001b[0;34m\u001b[0m\u001b[0m\n\u001b[0;32m--> 440\u001b[0;31m                     \u001b[0mtimeout\u001b[0m\u001b[0;34m=\u001b[0m\u001b[0mtimeout\u001b[0m\u001b[0;34m\u001b[0m\u001b[0;34m\u001b[0m\u001b[0m\n\u001b[0m\u001b[1;32m    441\u001b[0m                 )\n",
      "\u001b[0;32m/usr/lib/python3/dist-packages/urllib3/connectionpool.py\u001b[0m in \u001b[0;36murlopen\u001b[0;34m(self, method, url, body, headers, retries, redirect, assert_same_host, timeout, pool_timeout, release_conn, chunked, body_pos, **response_kw)\u001b[0m\n\u001b[1;32m    638\u001b[0m             retries = retries.increment(method, url, error=e, _pool=self,\n\u001b[0;32m--> 639\u001b[0;31m                                         _stacktrace=sys.exc_info()[2])\n\u001b[0m\u001b[1;32m    640\u001b[0m             \u001b[0mretries\u001b[0m\u001b[0;34m.\u001b[0m\u001b[0msleep\u001b[0m\u001b[0;34m(\u001b[0m\u001b[0;34m)\u001b[0m\u001b[0;34m\u001b[0m\u001b[0;34m\u001b[0m\u001b[0m\n",
      "\u001b[0;32m/usr/lib/python3/dist-packages/urllib3/util/retry.py\u001b[0m in \u001b[0;36mincrement\u001b[0;34m(self, method, url, response, error, _pool, _stacktrace)\u001b[0m\n\u001b[1;32m    397\u001b[0m         \u001b[0;32mif\u001b[0m \u001b[0mnew_retry\u001b[0m\u001b[0;34m.\u001b[0m\u001b[0mis_exhausted\u001b[0m\u001b[0;34m(\u001b[0m\u001b[0;34m)\u001b[0m\u001b[0;34m:\u001b[0m\u001b[0;34m\u001b[0m\u001b[0;34m\u001b[0m\u001b[0m\n\u001b[0;32m--> 398\u001b[0;31m             \u001b[0;32mraise\u001b[0m \u001b[0mMaxRetryError\u001b[0m\u001b[0;34m(\u001b[0m\u001b[0m_pool\u001b[0m\u001b[0;34m,\u001b[0m \u001b[0murl\u001b[0m\u001b[0;34m,\u001b[0m \u001b[0merror\u001b[0m \u001b[0;32mor\u001b[0m \u001b[0mResponseError\u001b[0m\u001b[0;34m(\u001b[0m\u001b[0mcause\u001b[0m\u001b[0;34m)\u001b[0m\u001b[0;34m)\u001b[0m\u001b[0;34m\u001b[0m\u001b[0;34m\u001b[0m\u001b[0m\n\u001b[0m\u001b[1;32m    399\u001b[0m \u001b[0;34m\u001b[0m\u001b[0m\n",
      "\u001b[0;31mMaxRetryError\u001b[0m: HTTPSConnectionPool(host='www.douban.com', port=443): Max retries exceeded with url: /group/topic/156984946/ (Caused by NewConnectionError('<urllib3.connection.VerifiedHTTPSConnection object at 0x7fb8bb698e10>: Failed to establish a new connection: [Errno 113] No route to host',))",
      "\nDuring handling of the above exception, another exception occurred:\n",
      "\u001b[0;31mConnectionError\u001b[0m                           Traceback (most recent call last)",
      "\u001b[0;32m<ipython-input-62-cd2441508153>\u001b[0m in \u001b[0;36m<module>\u001b[0;34m\u001b[0m\n\u001b[1;32m      3\u001b[0m     \u001b[0mstart\u001b[0m \u001b[0;34m=\u001b[0m \u001b[0mtime\u001b[0m\u001b[0;34m.\u001b[0m\u001b[0mtime\u001b[0m\u001b[0;34m(\u001b[0m\u001b[0;34m)\u001b[0m\u001b[0;34m\u001b[0m\u001b[0;34m\u001b[0m\u001b[0m\n\u001b[1;32m      4\u001b[0m     \u001b[0;32mfor\u001b[0m \u001b[0mi\u001b[0m \u001b[0;32min\u001b[0m \u001b[0marea\u001b[0m\u001b[0;34m:\u001b[0m\u001b[0;34m\u001b[0m\u001b[0;34m\u001b[0m\u001b[0m\n\u001b[0;32m----> 5\u001b[0;31m         \u001b[0mDouBanZuFang\u001b[0m\u001b[0;34m(\u001b[0m\u001b[0mi\u001b[0m\u001b[0;34m)\u001b[0m\u001b[0;34m.\u001b[0m\u001b[0mrun\u001b[0m\u001b[0;34m(\u001b[0m\u001b[0;34m)\u001b[0m\u001b[0;34m\u001b[0m\u001b[0;34m\u001b[0m\u001b[0m\n\u001b[0m\u001b[1;32m      6\u001b[0m     \u001b[0mprint\u001b[0m\u001b[0;34m(\u001b[0m\u001b[0mtime\u001b[0m\u001b[0;34m.\u001b[0m\u001b[0mtime\u001b[0m\u001b[0;34m(\u001b[0m\u001b[0;34m)\u001b[0m\u001b[0;34m-\u001b[0m\u001b[0mstart\u001b[0m\u001b[0;34m)\u001b[0m\u001b[0;34m\u001b[0m\u001b[0;34m\u001b[0m\u001b[0m\n",
      "\u001b[0;32m<ipython-input-57-b74fe5e005d3>\u001b[0m in \u001b[0;36mrun\u001b[0;34m(self)\u001b[0m\n\u001b[1;32m     36\u001b[0m         \u001b[0mself\u001b[0m\u001b[0;34m.\u001b[0m\u001b[0murls_download\u001b[0m\u001b[0;34m(\u001b[0m\u001b[0;34m)\u001b[0m\u001b[0;34m\u001b[0m\u001b[0;34m\u001b[0m\u001b[0m\n\u001b[1;32m     37\u001b[0m         \u001b[0;32mfor\u001b[0m \u001b[0mtitle\u001b[0m\u001b[0;34m,\u001b[0m\u001b[0mhref\u001b[0m \u001b[0;32min\u001b[0m \u001b[0mself\u001b[0m\u001b[0;34m.\u001b[0m\u001b[0murls_dict\u001b[0m\u001b[0;34m.\u001b[0m\u001b[0mitems\u001b[0m\u001b[0;34m(\u001b[0m\u001b[0;34m)\u001b[0m\u001b[0;34m:\u001b[0m\u001b[0;34m\u001b[0m\u001b[0;34m\u001b[0m\u001b[0m\n\u001b[0;32m---> 38\u001b[0;31m             \u001b[0mself\u001b[0m\u001b[0;34m.\u001b[0m\u001b[0mdata\u001b[0m \u001b[0;34m=\u001b[0m \u001b[0mself\u001b[0m\u001b[0;34m.\u001b[0m\u001b[0mdata\u001b[0m\u001b[0;34m.\u001b[0m\u001b[0mappend\u001b[0m\u001b[0;34m(\u001b[0m\u001b[0;34m[\u001b[0m\u001b[0mtitle\u001b[0m\u001b[0;34m,\u001b[0m\u001b[0mhref\u001b[0m\u001b[0;34m,\u001b[0m\u001b[0mself\u001b[0m\u001b[0;34m.\u001b[0m\u001b[0mparse_data\u001b[0m\u001b[0;34m(\u001b[0m\u001b[0mhref\u001b[0m\u001b[0;34m)\u001b[0m\u001b[0;34m]\u001b[0m\u001b[0;34m,\u001b[0m\u001b[0mignore_index\u001b[0m\u001b[0;34m=\u001b[0m\u001b[0;32mTrue\u001b[0m\u001b[0;34m)\u001b[0m\u001b[0;34m\u001b[0m\u001b[0;34m\u001b[0m\u001b[0m\n\u001b[0m\u001b[1;32m     39\u001b[0m             \u001b[0mtime\u001b[0m\u001b[0;34m.\u001b[0m\u001b[0msleep\u001b[0m\u001b[0;34m(\u001b[0m\u001b[0;36m1\u001b[0m\u001b[0;34m)\u001b[0m\u001b[0;34m\u001b[0m\u001b[0;34m\u001b[0m\u001b[0m\n\u001b[1;32m     40\u001b[0m         \u001b[0mself\u001b[0m\u001b[0;34m.\u001b[0m\u001b[0msave_data\u001b[0m\u001b[0;34m(\u001b[0m\u001b[0;34m)\u001b[0m\u001b[0;34m\u001b[0m\u001b[0;34m\u001b[0m\u001b[0m\n",
      "\u001b[0;32m<ipython-input-57-b74fe5e005d3>\u001b[0m in \u001b[0;36mparse_data\u001b[0;34m(self, url)\u001b[0m\n\u001b[1;32m     20\u001b[0m \u001b[0;34m\u001b[0m\u001b[0m\n\u001b[1;32m     21\u001b[0m     \u001b[0;32mdef\u001b[0m \u001b[0mparse_data\u001b[0m\u001b[0;34m(\u001b[0m\u001b[0mself\u001b[0m\u001b[0;34m,\u001b[0m\u001b[0murl\u001b[0m\u001b[0;34m)\u001b[0m\u001b[0;34m:\u001b[0m\u001b[0;34m\u001b[0m\u001b[0;34m\u001b[0m\u001b[0m\n\u001b[0;32m---> 22\u001b[0;31m         \u001b[0mres2\u001b[0m \u001b[0;34m=\u001b[0m \u001b[0mrequests\u001b[0m\u001b[0;34m.\u001b[0m\u001b[0mget\u001b[0m\u001b[0;34m(\u001b[0m\u001b[0murl\u001b[0m\u001b[0;34m=\u001b[0m\u001b[0murl\u001b[0m\u001b[0;34m,\u001b[0m\u001b[0mheaders\u001b[0m\u001b[0;34m=\u001b[0m\u001b[0mself\u001b[0m\u001b[0;34m.\u001b[0m\u001b[0mheaders\u001b[0m\u001b[0;34m)\u001b[0m\u001b[0;34m\u001b[0m\u001b[0;34m\u001b[0m\u001b[0m\n\u001b[0m\u001b[1;32m     23\u001b[0m         \u001b[0mdata\u001b[0m \u001b[0;34m=\u001b[0m \u001b[0;34m''\u001b[0m\u001b[0;34m\u001b[0m\u001b[0;34m\u001b[0m\u001b[0m\n\u001b[1;32m     24\u001b[0m         \u001b[0mbf2\u001b[0m \u001b[0;34m=\u001b[0m \u001b[0mBeautifulSoup\u001b[0m\u001b[0;34m(\u001b[0m\u001b[0mres2\u001b[0m\u001b[0;34m.\u001b[0m\u001b[0mtext\u001b[0m\u001b[0;34m)\u001b[0m\u001b[0;34m\u001b[0m\u001b[0;34m\u001b[0m\u001b[0m\n",
      "\u001b[0;32m/usr/lib/python3/dist-packages/requests/api.py\u001b[0m in \u001b[0;36mget\u001b[0;34m(url, params, **kwargs)\u001b[0m\n\u001b[1;32m     70\u001b[0m \u001b[0;34m\u001b[0m\u001b[0m\n\u001b[1;32m     71\u001b[0m     \u001b[0mkwargs\u001b[0m\u001b[0;34m.\u001b[0m\u001b[0msetdefault\u001b[0m\u001b[0;34m(\u001b[0m\u001b[0;34m'allow_redirects'\u001b[0m\u001b[0;34m,\u001b[0m \u001b[0;32mTrue\u001b[0m\u001b[0;34m)\u001b[0m\u001b[0;34m\u001b[0m\u001b[0;34m\u001b[0m\u001b[0m\n\u001b[0;32m---> 72\u001b[0;31m     \u001b[0;32mreturn\u001b[0m \u001b[0mrequest\u001b[0m\u001b[0;34m(\u001b[0m\u001b[0;34m'get'\u001b[0m\u001b[0;34m,\u001b[0m \u001b[0murl\u001b[0m\u001b[0;34m,\u001b[0m \u001b[0mparams\u001b[0m\u001b[0;34m=\u001b[0m\u001b[0mparams\u001b[0m\u001b[0;34m,\u001b[0m \u001b[0;34m**\u001b[0m\u001b[0mkwargs\u001b[0m\u001b[0;34m)\u001b[0m\u001b[0;34m\u001b[0m\u001b[0;34m\u001b[0m\u001b[0m\n\u001b[0m\u001b[1;32m     73\u001b[0m \u001b[0;34m\u001b[0m\u001b[0m\n\u001b[1;32m     74\u001b[0m \u001b[0;34m\u001b[0m\u001b[0m\n",
      "\u001b[0;32m/usr/lib/python3/dist-packages/requests/api.py\u001b[0m in \u001b[0;36mrequest\u001b[0;34m(method, url, **kwargs)\u001b[0m\n\u001b[1;32m     56\u001b[0m     \u001b[0;31m# cases, and look like a memory leak in others.\u001b[0m\u001b[0;34m\u001b[0m\u001b[0;34m\u001b[0m\u001b[0;34m\u001b[0m\u001b[0m\n\u001b[1;32m     57\u001b[0m     \u001b[0;32mwith\u001b[0m \u001b[0msessions\u001b[0m\u001b[0;34m.\u001b[0m\u001b[0mSession\u001b[0m\u001b[0;34m(\u001b[0m\u001b[0;34m)\u001b[0m \u001b[0;32mas\u001b[0m \u001b[0msession\u001b[0m\u001b[0;34m:\u001b[0m\u001b[0;34m\u001b[0m\u001b[0;34m\u001b[0m\u001b[0m\n\u001b[0;32m---> 58\u001b[0;31m         \u001b[0;32mreturn\u001b[0m \u001b[0msession\u001b[0m\u001b[0;34m.\u001b[0m\u001b[0mrequest\u001b[0m\u001b[0;34m(\u001b[0m\u001b[0mmethod\u001b[0m\u001b[0;34m=\u001b[0m\u001b[0mmethod\u001b[0m\u001b[0;34m,\u001b[0m \u001b[0murl\u001b[0m\u001b[0;34m=\u001b[0m\u001b[0murl\u001b[0m\u001b[0;34m,\u001b[0m \u001b[0;34m**\u001b[0m\u001b[0mkwargs\u001b[0m\u001b[0;34m)\u001b[0m\u001b[0;34m\u001b[0m\u001b[0;34m\u001b[0m\u001b[0m\n\u001b[0m\u001b[1;32m     59\u001b[0m \u001b[0;34m\u001b[0m\u001b[0m\n\u001b[1;32m     60\u001b[0m \u001b[0;34m\u001b[0m\u001b[0m\n",
      "\u001b[0;32m/usr/lib/python3/dist-packages/requests/sessions.py\u001b[0m in \u001b[0;36mrequest\u001b[0;34m(self, method, url, params, data, headers, cookies, files, auth, timeout, allow_redirects, proxies, hooks, stream, verify, cert, json)\u001b[0m\n\u001b[1;32m    518\u001b[0m         }\n\u001b[1;32m    519\u001b[0m         \u001b[0msend_kwargs\u001b[0m\u001b[0;34m.\u001b[0m\u001b[0mupdate\u001b[0m\u001b[0;34m(\u001b[0m\u001b[0msettings\u001b[0m\u001b[0;34m)\u001b[0m\u001b[0;34m\u001b[0m\u001b[0;34m\u001b[0m\u001b[0m\n\u001b[0;32m--> 520\u001b[0;31m         \u001b[0mresp\u001b[0m \u001b[0;34m=\u001b[0m \u001b[0mself\u001b[0m\u001b[0;34m.\u001b[0m\u001b[0msend\u001b[0m\u001b[0;34m(\u001b[0m\u001b[0mprep\u001b[0m\u001b[0;34m,\u001b[0m \u001b[0;34m**\u001b[0m\u001b[0msend_kwargs\u001b[0m\u001b[0;34m)\u001b[0m\u001b[0;34m\u001b[0m\u001b[0;34m\u001b[0m\u001b[0m\n\u001b[0m\u001b[1;32m    521\u001b[0m \u001b[0;34m\u001b[0m\u001b[0m\n\u001b[1;32m    522\u001b[0m         \u001b[0;32mreturn\u001b[0m \u001b[0mresp\u001b[0m\u001b[0;34m\u001b[0m\u001b[0;34m\u001b[0m\u001b[0m\n",
      "\u001b[0;32m/usr/lib/python3/dist-packages/requests/sessions.py\u001b[0m in \u001b[0;36msend\u001b[0;34m(self, request, **kwargs)\u001b[0m\n\u001b[1;32m    628\u001b[0m \u001b[0;34m\u001b[0m\u001b[0m\n\u001b[1;32m    629\u001b[0m         \u001b[0;31m# Send the request\u001b[0m\u001b[0;34m\u001b[0m\u001b[0;34m\u001b[0m\u001b[0;34m\u001b[0m\u001b[0m\n\u001b[0;32m--> 630\u001b[0;31m         \u001b[0mr\u001b[0m \u001b[0;34m=\u001b[0m \u001b[0madapter\u001b[0m\u001b[0;34m.\u001b[0m\u001b[0msend\u001b[0m\u001b[0;34m(\u001b[0m\u001b[0mrequest\u001b[0m\u001b[0;34m,\u001b[0m \u001b[0;34m**\u001b[0m\u001b[0mkwargs\u001b[0m\u001b[0;34m)\u001b[0m\u001b[0;34m\u001b[0m\u001b[0;34m\u001b[0m\u001b[0m\n\u001b[0m\u001b[1;32m    631\u001b[0m \u001b[0;34m\u001b[0m\u001b[0m\n\u001b[1;32m    632\u001b[0m         \u001b[0;31m# Total elapsed time of the request (approximately)\u001b[0m\u001b[0;34m\u001b[0m\u001b[0;34m\u001b[0m\u001b[0;34m\u001b[0m\u001b[0m\n",
      "\u001b[0;32m/usr/lib/python3/dist-packages/requests/adapters.py\u001b[0m in \u001b[0;36msend\u001b[0;34m(self, request, stream, timeout, verify, cert, proxies)\u001b[0m\n\u001b[1;32m    506\u001b[0m                 \u001b[0;32mraise\u001b[0m \u001b[0mSSLError\u001b[0m\u001b[0;34m(\u001b[0m\u001b[0me\u001b[0m\u001b[0;34m,\u001b[0m \u001b[0mrequest\u001b[0m\u001b[0;34m=\u001b[0m\u001b[0mrequest\u001b[0m\u001b[0;34m)\u001b[0m\u001b[0;34m\u001b[0m\u001b[0;34m\u001b[0m\u001b[0m\n\u001b[1;32m    507\u001b[0m \u001b[0;34m\u001b[0m\u001b[0m\n\u001b[0;32m--> 508\u001b[0;31m             \u001b[0;32mraise\u001b[0m \u001b[0mConnectionError\u001b[0m\u001b[0;34m(\u001b[0m\u001b[0me\u001b[0m\u001b[0;34m,\u001b[0m \u001b[0mrequest\u001b[0m\u001b[0;34m=\u001b[0m\u001b[0mrequest\u001b[0m\u001b[0;34m)\u001b[0m\u001b[0;34m\u001b[0m\u001b[0;34m\u001b[0m\u001b[0m\n\u001b[0m\u001b[1;32m    509\u001b[0m \u001b[0;34m\u001b[0m\u001b[0m\n\u001b[1;32m    510\u001b[0m         \u001b[0;32mexcept\u001b[0m \u001b[0mClosedPoolError\u001b[0m \u001b[0;32mas\u001b[0m \u001b[0me\u001b[0m\u001b[0;34m:\u001b[0m\u001b[0;34m\u001b[0m\u001b[0;34m\u001b[0m\u001b[0m\n",
      "\u001b[0;31mConnectionError\u001b[0m: HTTPSConnectionPool(host='www.douban.com', port=443): Max retries exceeded with url: /group/topic/156984946/ (Caused by NewConnectionError('<urllib3.connection.VerifiedHTTPSConnection object at 0x7fb8bb698e10>: Failed to establish a new connection: [Errno 113] No route to host',))"
     ]
    }
   ],
   "source": [
    "if __name__ == '__main__':\n",
    "    area = ['tianhe','haizhu','baiyun','yuexiu','panyu','huadu','liwan','huangpu']\n",
    "    start = time.time()\n",
    "    for i in area:\n",
    "        DouBanZuFang(i).run()\n",
    "    print(time.time()-start)"
   ]
  },
  {
   "cell_type": "code",
   "execution_count": 60,
   "metadata": {},
   "outputs": [],
   "source": [
    "start = time.time()"
   ]
  },
  {
   "cell_type": "code",
   "execution_count": 61,
   "metadata": {},
   "outputs": [
    {
     "data": {
      "text/plain": [
       "7.56061577796936"
      ]
     },
     "execution_count": 61,
     "metadata": {},
     "output_type": "execute_result"
    }
   ],
   "source": [
    "time.time() - start"
   ]
  },
  {
   "cell_type": "code",
   "execution_count": 26,
   "metadata": {},
   "outputs": [],
   "source": [
    "tianhe = DouBanZuFang()\n",
    "url = 'https://www.douban.com/group/tianhezufang/discussion?start={}'\n",
    "tianhe.urls_download(url)\n"
   ]
  },
  {
   "cell_type": "code",
   "execution_count": 51,
   "metadata": {},
   "outputs": [],
   "source": [
    "lst = []\n",
    "for i in lst:\n",
    "    print(i)"
   ]
  },
  {
   "cell_type": "code",
   "execution_count": 27,
   "metadata": {
    "scrolled": true
   },
   "outputs": [
    {
     "name": "stdout",
     "output_type": "stream",
     "text": [
      "['🎄🎄5号线地铁🌟珠江新城🌟猎德🌟潭村小区合租公寓👍房东直租，中介勿扰🎃随时看房', 'https://www.douban.com/group/topic/156231407/', '本公寓为小区合租公寓，大部分房源靠近地铁口，主要聚集在珠江新城、猎德  、潭村地铁口附近        \\n涵盖保利心语  盈嘉花园  博雅御轩  中海璟晖  隽峰苑  汇峰苑 利雅湾甲子花园  龙胜苑凤凰苑  南国花园  骏逸苑  安俊大厦  跑马地花园  珠光御景二期 等\\n室内分主卧  阳台房  大次卧  小次卧   主卧自带卫生间  阳台房自带阳台一般光线比较好  大次卧空间比较大，一般带飘窗  小次卧带小飘窗或者普通窗户  \\n价格  主卧一般在2900～3500\\n          阳台房在2600～2900\\n          大次卧在2300～2500\\n          小次卧在1500～2200\\n价格根据房型以及楼层和小区位置定价\\n室内厨房客厅和公用的卫生间会定期有专人打扫\\n公共区域配置  沙发，桌椅  冰箱  洗衣机  燃气灶等  房间内一般配置衣柜  床垫  桌椅  空调  其他物品一般不配备，可协商  \\n详细阅读后  有意者可➕V   （ lolocare   ）或扫码添加\\n以下图片为实拍图中任意挑选  不仅限于一套房间\\n']\n",
      "['棠下站旁1分钟，4.6楼复试大单间1450起租。2楼电梯单间1280，现在定房首月租金立减300元哦', 'https://www.douban.com/group/topic/157076972/', '看房子视频可加房东微信18319545920\\n拎包入住房源：天河棠下真功夫附近步行约1分钟个人房整租，房子临街边，有阳台，光线好，不同格局不同价格，图片实拍，随时看房入住！中介勿扰！ 随时可入住：4.6楼复试大单间1450起租，2楼大单间1280起租，3楼路边一房一厅1780起租\\n\\n配置：床，衣柜，电脑桌椅，电热水器，冰箱，洗衣机，沙发，茶几。\\n周边：楼下就是超市和小吃店，附菜市场、大型超市沃尔玛，真功夫，医院、银行、电影院等。软件园，羊城创意园，网易，数码港，天辉商务大厦……都在附近\\n公交：【步行1分钟】到棠下brt公交站有b12 b16 b17 b1 b1快线 b20 b21 b2 b3 b4 b5 b6 b7 b8路等公交车，【步行15分钟】到科韵路地铁站\\n']\n",
      "['广州-【租房-群】', 'https://www.douban.com/group/topic/156886052/', ' 无中介租房群🏠求租/出租/转租/合租/整租的进，系统匹配租客、房东 \\n\\n\\n']\n",
      "['棠下复式公寓 45 平米单间带阳台 1800 转租', 'https://www.douban.com/group/topic/156966777/', '房子说明\\n地理位置：天河区棠下街道广棠路 9 号（棠德花苑旁边），走路 100 米就是公交车站总站，上去就有座。去体育西珠江新城公交 20 分钟直达。在科韵路上班就更方便了，单车 10 分钟就到了\\n\\n目前只要科韵路地铁站，需要单车 12 分钟，据说年底会开通棠下地铁站（步行 5 分钟到），到时候去其他地方就更方便了。\\n住房面积：一层 35 平米，卧室 10 平米，阳台 8 平米\\n转租原因：工作原因，要离职了，换了工作地点，因此转租\\n房租价格：1800 一个月，每月9 号交租\\n水费：6 元一吨\\n电费：1.5 元一度\\n其他：管理费 100 元\\n公共电费：每月 5 元（走廊过道的电费）\\n\\n\\n房子图片\\n阳台采光超好，好到周末在家，白天要用窗帘挡住的程度。视角开阔，无遮挡，洗衣机、晾衣杆、厨房抽烟机一应俱全。平时可以做做菜啥的，我经常做蒸紫薯、蒸玉米。\\n客厅超级大，带沙发，带茶几，我还自己买了一个 299 的桌子，用了 半年左右，有需要的话，50 给了（主要是用来打游戏），闲暇时间可以买个投影仪，坐在沙发上边吃零食边看 60 寸的巨幕电影。冰箱可以用来放雪糕、零食、酒水等。\\n\\n女生的话出门化妆也很方便，有个梳妆台，化完妆在出门也是极好的。\\n\\n厕所也是超级大，想怎么洗就怎么洗，边洗边拉都行（狗头保命）。置物架、马桶刷、半身镜都有。\\n\\n卧室在二楼，有个衣帽柜。\\n周边环境：\\n上楼前要刷门禁卡，很安全。也有一个丰巢快递柜，上班时候也能收快递。\\n美中不足的地方\\n1.走过来的时候要经过一个桥洞，路况差，周围的环境也比较差。\\n这里没拍图片，明早上班再拍。\\n2.因为房间太大了，所以空调制冷的比较慢，又因为卧室在二楼，所以卧室的温度下降的比较慢（要 1 小时左右），我嫌太慢了，搞了个送风管道，嫌丑的话，可以把送风管道去掉。不在乎就无所谓了。\\n3.可以情侣，但是不能养宠物。\\n其他的说明：\\n1.转租需要付转租费，总共 500，我们可以平摊，一人 250。\\n2.图片中的【厕所全身镜】【厕所硅树垫、【厕所置物架】【厕所马桶刷】【厕所抽纸盒】【客厅电脑桌】【阳台电饭煲】【阳台牙刷牙膏置物架】是我个人的，有需要的话，可以低价卖给你（都是全新的，原价的三分之一卖给你）没需要的话，搬家的时候我一起拿走。\\n']\n",
      "['合租.员村地铁  东璟花园  天河公园 信息港  ', 'https://www.douban.com/group/topic/154545650/', ' \\n\\n同样作为广漂，租个房子不容易，所以为了方便大家快速地筛选房子是否合适，以下信息真实，图片也是实拍，物品配置也是齐全，不是样板房\\n小区名字叫东璟花园  小区门口步行3分钟就到员村山顶公交车站/员村二横路站，步行10分钟可达员村地铁站，5分钟到天河公园地铁站  （快开通了）交通是非常便利的。\\n周边配套齐全，小区不到100米有百佳超市，200米有家乐福超市，大地电影院，过了马路就是天河公园，晚上可以去跑步，市六医院走3分钟，菜市场两个。楼下公交网络覆盖广泛，黄埔，白云，海珠，越秀都有直达线，地铁走路大概10分钟可到。\\n二横路真是方便得不能再方便。 \\nBTW！！！街尾就是有名的宵夜街，去兴盛路吃饭打车只需十几分钟，地铁两个站，方便得不得\\n要求，性格好相处，斤斤计较的请绕道了哈\\nPS：费用只有房租+水电管理费（均摊），然后就 没有其他乱七八糟的乱收费 啦~~\\n\\n有意者联系   微信   ESG-44522   手机号 13312843252 【加的时候请标注一下 “东璟花园” 哈。 \\n\\n其他不说啦，下图（均为现场实拍）：\\n\\n\\n\\n\\n\\n\\n\\n\\n\\n\\n\\n\\n\\n\\n\\n\\n有意者联系   微信   ESG-44522   手机号 13312843252 【加的时候请标注一下 “东璟花园” 哈。 \\n\\n\\n']\n",
      "['【转租】车陂/东圃 东尚明苑转一房一厅，适合科韵路/羊城创意园上班的亲们', 'https://www.douban.com/group/topic/156175326/', '位置：天河区中山大道接近广园快速路\\n交通情况：\\na. 距离东圃BRT：步行10分钟，单车3分钟。\\nb. 距离车陂地铁站：步行20分钟，骑行6分钟。\\nc. 车陂高架桥侧公交站：个人建议下班可以在此站下车，走路三五分钟就到了。\\n\\n小区设施：设置快递柜；小区门口有多种共享单车；天天一泉售水机；\\n小超市有华润（隔壁小区）和西亚新安（前往BRT路上），钱大妈；\\n小区门口约200米即为社区医院；\\n菜市场可以在车陂或东圃大马路的综合市场（后者较远），不想做饭则可以在BRT附近找食铺解决。\\n\\n小区大门主要是车辆的出入口（收费口），再往里有门禁卡的铁门；以此铁门为界，内外有两条道路可供运动（一般内为长者和小童休闲娱乐区，外多为跑步或快走的居民）；\\n保安每天晚上都会循楼，居委会也有上门核实居住人员身份的情况（例行检查，不多）。\\n\\n费用情况：水电和燃气费都是按民用收取\\n水：物业每2个月收取一次，一般在50块左右\\n电：一般和租金一起转账给房东。\\n燃气费：每2个月报一次数给房东（房东再上报），最终定费用。\\n物业费＋垃圾费：103元，随租金一起转房东。\\n水费可以和房东商量、直接交房东后对方去交给物业。\\n租金：2700\\n家具配置：热水器，洗衣机，冰箱，灶台，抽油烟机，床（带床垫），空调，衣柜，饭桌，茶几，电视柜。\\n宠物问题：仅限中小型宠物（据上一个房客说）；小区内建议带好狗绳（多有长幼者）。\\n房东：广州本地人，虽不住附近，但房子遇上问题都可以找对方来处理。\\n可入住时间：11月底，具体时间可商量。\\n转租原因：通过公司申请到公租房，＋预计1个月的整理和搬家。\\n室内图：\\n阳台外景观\\n个人感受：到2019年十月中，我们已经在这里住了20个月，没有公租房的话，我们不太会搬。\\n由于住多了小区，对于光线有要求的我们（情侣）马上就看中了这里、签约。\\n虽说是一房一厅，但我觉得比较像一房2厅（我们的确也是按照一房2厅来住的）；\\n还有一个入室花园，也可以理解为小型玄关吧；\\n客厅里除了一张办公桌，空出来的地方用来做健身区域；\\n卧室的话，飘窗是我心里一个加分项，周末铺上毯子和靠垫，坐在飘窗上煲剧是我最喜欢的事情，而平时也是我的化妆区域。\\n如有意向看房，还请留言或私聊，以便约定时间（大家都是上班族）。多谢！\\n']\n",
      "['【棠东转租】十一月份下旬入住补贴六百', 'https://www.douban.com/group/topic/156974237/', '棠东横岭三路大单间，因个人工作调动转租，补贴600\\n\\n棠东横岭三路大单间，房租管理费卫生费各种费用加起来是1400，电费1.7/度，水35元包月，基本上一个月都在1600左右。\\n房间很大，一个人住很宽敞，也可以男女朋友一起住，这边很多情侣合租在这里，距离东南菜市场也很近，喜欢买菜做饭的话非常便利。离棠德南路也近，那边吃的很多很丰富。\\n交通便利，距离棠德小区北站只要三四分钟，距离棠下小区总站也只要七分钟左右，棠东地铁也马上就要开通了，所以这个位置还是非常不错的。\\n之前在林和西工作，但现在工作变动要去到海珠区，所以相对来说通勤时间太长，非常不便利，我自己还在这里住的，有意愿要租的小伙伴可以来看房，如果在十一月下旬租的话可以补贴你600块钱，我买了很多生活用品如果你需要也可以送一些给你。\\n照片都是原相机拍的，但是看得出房间光线是很好的，装修也很不错（只不过我东西多有点乱）。\\n感兴趣私信加微信详聊\\n\\n\\n\\n']\n",
      "['潭村珠光御景二期3房仅需7000元', 'https://www.douban.com/group/topic/157077096/', '珠光御景二期收楼至今两年，小区安保非常好，带泳池及绿化带设施，停车6元/小时，每月600元，本户型面向花园，十分安静舒适，总平方数77㎡，实用三房，适合办公和自住，可以办理营业执照。\\n']\n",
      "['【转租】三号线大石D出口一房一厅：采光好+家电齐全+7分钟到地铁站不走小巷子', 'https://www.douban.com/group/topic/156818361/', '本人由于工作调动，加上之后打算跟朋友合租，所以不得不忍痛转租这套住了接近2年的一房一厅，跟房东签合同到2020年6月，月租1300元/月（含网费和管理费），我和朋友将在2019年11月18日前搬家，如果最近想要急着找房的小伙伴就so sorry啦~\\n上几张房间的内部图：\\n\\n客厅的大概样子，最近朋友过来暂住，所以东西比较多\\n\\n\\n这是厕所，看着小，但是够用，图片右边是挂衣服的地方\\n\\n\\n客厅和房间的过渡处可以做饭，有抽油烟机\\n\\n\\n房间的亚子，四周有瓷砖好评！\\n\\n\\n房子是租回来的，但生活不是呀！\\n1、房间位于三号线大石D出口，直路步行7-8分钟，不用走小巷子；\\n2、七楼，有电梯，该楼层有天台，晾晒棉被和衣服很方便，阿姨每天都打扫楼道卫生，非常整洁；\\n3、电器和家具：洗衣机、空调、热水器、抽油烟机、冰箱（我没要，但房东可以配）、衣柜、桌椅；\\n4、房间的光线非常好，窗外基本没有遮挡建筑物，南北通风；\\n5、房东夫妇就住在一楼，水管电网坏了可以立刻找他们上来修；\\n6、房东的几栋出租屋大多租给80、90后的年轻人，环境相对安静；\\n7、目前的房租是1300元/月（含管理费），加上水电费1500元/月（数据仅供参考），押二付一；\\n8、能不能养小动物，这个我不太确定，因为我没有养，小猫应该OK，大型宠物应该不OK。\\n我本身也是周末爱跟朋友们出去吃喝玩乐的女同学，不得不说大石真的去哪都方便：\\n1、地铁直达【天河客运站】35min；地铁直达【广州火车站】35min；地铁直达【广州南站】30min；地铁直达【机场北】50min。无论坐飞机、坐动车、坐大巴，都挺方便的！\\n2、三号线沿线的【体育西】、【石牌桥】、【客村】、【珠江新城】、【番禺广场】都是吃吃逛逛的商圈，两站可到【沥滘】换乘广佛线，一站可到【汉溪长隆】欢乐世界玩，或转免费接驳车去番禺宜家家居逛逛，四站可到【客村】换乘八号线，六站可到【珠江新城】换乘五号线，两个字：方便！（PS：番禺真的超级无敌多老字号，找找就会有惊喜。）\\n3、房间楼下有几个小超市，营业到晚上12点后，步行5分钟到下个街区就是一条小小的美食街，兰州拉面、五谷鱼粉、大排档、火锅、烤鱼都有，过桥走10分钟有个菜市场和中型超市，步行20分钟可到达附近的健身房，想去大一点的超市可以去【番禺广场】的永旺，电影院我一般会坐两站去【市桥】看，实惠！\\n4、收发快递大多在楼下的中通快递点，有时候快递小哥会把快递放到房东门口，就不容易丢件。挨着新光高速，所以家人朋友开车过来，下了高速就到了！\\n看到这里说明你对我的小房子是感兴趣的对不对？\\n毕竟找房真的是挺艰辛的事情，能遇到不容易哈哈哈~\\n如果房租、地段和入住时间正好符合你的预期，不妨加个微信相互了解。\\n微信：yokischen （中介勿扰）\\n添加好友时烦请备注：豆瓣租房\\n感\\n']\n",
      "['【出租-天河公园附近】小次卧1250-纯女生-小区电梯房-近华景新城brt-天河公园-科韵路-岗顶-华师', 'https://www.douban.com/group/topic/156443006/', ' \\n【房源简介】\\n邮通小区，位于中山大道西139号，去天河城、正佳广场超方便，不到4公里\\n交通便利，靠近华景新城brt，并且即将开通天河公园地铁站。\\n生活便利，旁边有大型超市--华润万家，小区出门即是南医三院，且周围还有多个菜市场。楼下就有韵达快递，且小区内配置了多个e栈，方便收取快递。\\n环境优美，小区安静，附近还有天河公园\\n地图上搜索“邮电社区居委会”就能直接找到这一栋。\\n【房子信息】\\n三室一厅两卫，配套齐全，拎包入住。\\n坐标6楼（黄金楼层，一共9层），带电梯，垃圾直接放到楼梯口即可，每天早晚都有人来收。\\n本次出租小次卧。\\n价格：1250/月\\n入住时间：随时入住\\n【室友】\\n主卧：我（女）\\n侧卧：95后妹子一枚\\n小卧：美丽的你\\n【房间照片】\\n【联系方式】\\n电话/微信：13349908835\\n加微信时请备注：豆瓣-小卧\\n']\n"
     ]
    }
   ],
   "source": [
    "num = 1\n",
    "for title,href in tianhe.urls_dict.items():\n",
    "    if num <= 10:\n",
    "        data = tianhe.parse_data(href)\n",
    "        print([title,href,data])\n",
    "        tianhe.data = tianhe.data.append([[title,href,data]],ignore_index=True)\n",
    "        num += 1\n",
    "    else:\n",
    "        break"
   ]
  }
 ],
 "metadata": {
  "kernelspec": {
   "display_name": "Python 3",
   "language": "python",
   "name": "python3"
  },
  "language_info": {
   "codemirror_mode": {
    "name": "ipython",
    "version": 3
   },
   "file_extension": ".py",
   "mimetype": "text/x-python",
   "name": "python",
   "nbconvert_exporter": "python",
   "pygments_lexer": "ipython3",
   "version": "3.6.8"
  }
 },
 "nbformat": 4,
 "nbformat_minor": 2
}
